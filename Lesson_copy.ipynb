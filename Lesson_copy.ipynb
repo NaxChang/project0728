{
 "cells": [
  {
   "cell_type": "code",
   "execution_count": 3,
   "metadata": {},
   "outputs": [
    {
     "name": "stdout",
     "output_type": "stream",
     "text": [
      "[1, 2, 3]\n"
     ]
    }
   ],
   "source": [
    "import copy \n",
    "original_list = [1, 2, 3]\n",
    "copied_list = copy.copy(original_list)\n",
    "print(copied_list)"
   ]
  },
  {
   "cell_type": "code",
   "execution_count": 19,
   "metadata": {},
   "outputs": [
    {
     "name": "stdout",
     "output_type": "stream",
     "text": [
      "{'a': 1, 'b': [2, 3, 4]}\n",
      "{'a': 1, 'b': [2, 3, 4]}\n"
     ]
    }
   ],
   "source": [
    "original_dict = {\"a\": 1, \"b\": [2, 3]}\n",
    "copied_dict = copy.copy(original_dict)\n",
    "copied_dict['b'].append(4)\n",
    "print(copied_dict)\n",
    "print(original_dict)\n",
    "\n",
    "\n"
   ]
  },
  {
   "cell_type": "code",
   "execution_count": 21,
   "metadata": {},
   "outputs": [
    {
     "name": "stdout",
     "output_type": "stream",
     "text": [
      "{'a': 1, 'b': [2, 3, 4]}\n",
      "{'a': 1, 'b': [2, 3]}\n"
     ]
    }
   ],
   "source": [
    "original_dict = {\"a\": 1, \"b\": [2, 3]}\n",
    "copied_dict = copy.deepcopy(original_dict)\n",
    "copied_dict['b'].append(4)\n",
    "print(copied_dict)\n",
    "print(original_dict)\n"
   ]
  },
  {
   "cell_type": "code",
   "execution_count": 24,
   "metadata": {},
   "outputs": [
    {
     "name": "stdout",
     "output_type": "stream",
     "text": [
      "(1, 2, [3, 4, 5])\n",
      "(1, 2, [3, 4, 5])\n",
      "(1, 2, [3, 4])\n"
     ]
    }
   ],
   "source": [
    "original_tuple = (1, 2, [3, 4])\n",
    "copied_tuple = copy.copy(original_tuple)\n",
    "deep_copied_tuple = copy.deepcopy(original_tuple)\n",
    "original_tuple[2].append(5)\n",
    "print(original_tuple)\n",
    "print(copied_tuple)\n",
    "print(deep_copied_tuple)\n",
    "\n",
    "\n"
   ]
  }
 ],
 "metadata": {
  "kernelspec": {
   "display_name": "venv1",
   "language": "python",
   "name": "python3"
  },
  "language_info": {
   "codemirror_mode": {
    "name": "ipython",
    "version": 3
   },
   "file_extension": ".py",
   "mimetype": "text/x-python",
   "name": "python",
   "nbconvert_exporter": "python",
   "pygments_lexer": "ipython3",
   "version": "3.11.2"
  }
 },
 "nbformat": 4,
 "nbformat_minor": 2
}
